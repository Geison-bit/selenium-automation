{
 "cells": [
  {
   "cell_type": "code",
   "execution_count": 3,
   "id": "407ecefa",
   "metadata": {},
   "outputs": [
    {
     "name": "stdout",
     "output_type": "stream",
     "text": [
      "Collecting selenium\n",
      "  Downloading selenium-4.21.0-py3-none-any.whl.metadata (6.9 kB)\n",
      "Collecting pytest\n",
      "  Downloading pytest-8.2.2-py3-none-any.whl.metadata (7.6 kB)\n",
      "Requirement already satisfied: urllib3<3,>=1.26 in d:\\disco edinson\\downloads\\anaconda\\envs\\i_d\\lib\\site-packages (from urllib3[socks]<3,>=1.26->selenium) (2.1.0)\n",
      "Collecting trio~=0.17 (from selenium)\n",
      "  Downloading trio-0.25.1-py3-none-any.whl.metadata (8.7 kB)\n",
      "Collecting trio-websocket~=0.9 (from selenium)\n",
      "  Downloading trio_websocket-0.11.1-py3-none-any.whl.metadata (4.7 kB)\n",
      "Requirement already satisfied: certifi>=2021.10.8 in d:\\disco edinson\\downloads\\anaconda\\envs\\i_d\\lib\\site-packages (from selenium) (2024.2.2)\n",
      "Requirement already satisfied: typing_extensions>=4.9.0 in d:\\disco edinson\\downloads\\anaconda\\envs\\i_d\\lib\\site-packages (from selenium) (4.9.0)\n",
      "Collecting iniconfig (from pytest)\n",
      "  Downloading iniconfig-2.0.0-py3-none-any.whl.metadata (2.6 kB)\n",
      "Requirement already satisfied: packaging in d:\\disco edinson\\downloads\\anaconda\\envs\\i_d\\lib\\site-packages (from pytest) (23.2)\n",
      "Collecting pluggy<2.0,>=1.5 (from pytest)\n",
      "  Downloading pluggy-1.5.0-py3-none-any.whl.metadata (4.8 kB)\n",
      "Requirement already satisfied: exceptiongroup>=1.0.0rc8 in d:\\disco edinson\\downloads\\anaconda\\envs\\i_d\\lib\\site-packages (from pytest) (1.2.0)\n",
      "Requirement already satisfied: tomli>=1 in d:\\disco edinson\\downloads\\anaconda\\envs\\i_d\\lib\\site-packages (from pytest) (2.0.1)\n",
      "Requirement already satisfied: colorama in d:\\disco edinson\\downloads\\anaconda\\envs\\i_d\\lib\\site-packages (from pytest) (0.4.6)\n",
      "Collecting attrs>=23.2.0 (from trio~=0.17->selenium)\n",
      "  Downloading attrs-23.2.0-py3-none-any.whl.metadata (9.5 kB)\n",
      "Requirement already satisfied: sortedcontainers in d:\\disco edinson\\downloads\\anaconda\\envs\\i_d\\lib\\site-packages (from trio~=0.17->selenium) (2.4.0)\n",
      "Requirement already satisfied: idna in d:\\disco edinson\\downloads\\anaconda\\envs\\i_d\\lib\\site-packages (from trio~=0.17->selenium) (3.4)\n",
      "Collecting outcome (from trio~=0.17->selenium)\n",
      "  Downloading outcome-1.3.0.post0-py2.py3-none-any.whl.metadata (2.6 kB)\n",
      "Requirement already satisfied: sniffio>=1.3.0 in d:\\disco edinson\\downloads\\anaconda\\envs\\i_d\\lib\\site-packages (from trio~=0.17->selenium) (1.3.0)\n",
      "Requirement already satisfied: cffi>=1.14 in d:\\disco edinson\\downloads\\anaconda\\envs\\i_d\\lib\\site-packages (from trio~=0.17->selenium) (1.16.0)\n",
      "Collecting wsproto>=0.14 (from trio-websocket~=0.9->selenium)\n",
      "  Downloading wsproto-1.2.0-py3-none-any.whl.metadata (5.6 kB)\n",
      "Requirement already satisfied: pysocks!=1.5.7,<2.0,>=1.5.6 in d:\\disco edinson\\downloads\\anaconda\\envs\\i_d\\lib\\site-packages (from urllib3[socks]<3,>=1.26->selenium) (1.7.1)\n",
      "Requirement already satisfied: pycparser in d:\\disco edinson\\downloads\\anaconda\\envs\\i_d\\lib\\site-packages (from cffi>=1.14->trio~=0.17->selenium) (2.21)\n",
      "Collecting h11<1,>=0.9.0 (from wsproto>=0.14->trio-websocket~=0.9->selenium)\n",
      "  Downloading h11-0.14.0-py3-none-any.whl.metadata (8.2 kB)\n",
      "Downloading selenium-4.21.0-py3-none-any.whl (9.5 MB)\n",
      "   ---------------------------------------- 0.0/9.5 MB ? eta -:--:--\n",
      "   -- ------------------------------------- 0.6/9.5 MB 11.5 MB/s eta 0:00:01\n",
      "   ---- ----------------------------------- 1.1/9.5 MB 11.4 MB/s eta 0:00:01\n",
      "   ------ --------------------------------- 1.6/9.5 MB 11.6 MB/s eta 0:00:01\n",
      "   --------- ------------------------------ 2.2/9.5 MB 11.6 MB/s eta 0:00:01\n",
      "   ----------- ---------------------------- 2.7/9.5 MB 11.6 MB/s eta 0:00:01\n",
      "   ------------- -------------------------- 3.3/9.5 MB 11.6 MB/s eta 0:00:01\n",
      "   ---------------- ----------------------- 3.8/9.5 MB 11.5 MB/s eta 0:00:01\n",
      "   ------------------- -------------------- 4.5/9.5 MB 11.6 MB/s eta 0:00:01\n",
      "   --------------------- ------------------ 5.1/9.5 MB 11.6 MB/s eta 0:00:01\n",
      "   ----------------------- ---------------- 5.6/9.5 MB 11.6 MB/s eta 0:00:01\n",
      "   -------------------------- ------------- 6.2/9.5 MB 11.7 MB/s eta 0:00:01\n",
      "   ----------------------------- ---------- 6.9/9.5 MB 11.6 MB/s eta 0:00:01\n",
      "   ------------------------------- -------- 7.4/9.5 MB 11.5 MB/s eta 0:00:01\n",
      "   --------------------------------- ------ 7.9/9.5 MB 11.5 MB/s eta 0:00:01\n",
      "   ----------------------------------- ---- 8.5/9.5 MB 11.5 MB/s eta 0:00:01\n",
      "   -------------------------------------- - 9.0/9.5 MB 11.5 MB/s eta 0:00:01\n",
      "   ---------------------------------------  9.5/9.5 MB 11.6 MB/s eta 0:00:01\n",
      "   ---------------------------------------- 9.5/9.5 MB 11.2 MB/s eta 0:00:00\n",
      "Downloading pytest-8.2.2-py3-none-any.whl (339 kB)\n",
      "   ---------------------------------------- 0.0/339.9 kB ? eta -:--:--\n",
      "   --------------------------------------- 339.9/339.9 kB 20.6 MB/s eta 0:00:00\n",
      "Downloading pluggy-1.5.0-py3-none-any.whl (20 kB)\n",
      "Downloading trio-0.25.1-py3-none-any.whl (467 kB)\n",
      "   ---------------------------------------- 0.0/467.7 kB ? eta -:--:--\n",
      "   --------------------------------------  460.8/467.7 kB 14.5 MB/s eta 0:00:01\n",
      "   ---------------------------------------- 467.7/467.7 kB 9.7 MB/s eta 0:00:00\n",
      "Downloading trio_websocket-0.11.1-py3-none-any.whl (17 kB)\n",
      "Downloading iniconfig-2.0.0-py3-none-any.whl (5.9 kB)\n",
      "Downloading attrs-23.2.0-py3-none-any.whl (60 kB)\n",
      "   ---------------------------------------- 0.0/60.8 kB ? eta -:--:--\n",
      "   ---------------------------------------- 60.8/60.8 kB ? eta 0:00:00\n",
      "Downloading wsproto-1.2.0-py3-none-any.whl (24 kB)\n",
      "Downloading outcome-1.3.0.post0-py2.py3-none-any.whl (10 kB)\n",
      "Downloading h11-0.14.0-py3-none-any.whl (58 kB)\n",
      "   ---------------------------------------- 0.0/58.3 kB ? eta -:--:--\n",
      "   ---------------------------------------- 58.3/58.3 kB 3.0 MB/s eta 0:00:00\n",
      "Installing collected packages: pluggy, iniconfig, h11, attrs, wsproto, pytest, outcome, trio, trio-websocket, selenium\n",
      "  Attempting uninstall: pluggy\n",
      "    Found existing installation: pluggy 1.0.0\n",
      "    Uninstalling pluggy-1.0.0:\n",
      "      Successfully uninstalled pluggy-1.0.0\n",
      "  Attempting uninstall: attrs\n",
      "    Found existing installation: attrs 23.1.0\n",
      "    Uninstalling attrs-23.1.0:\n",
      "      Successfully uninstalled attrs-23.1.0\n",
      "Successfully installed attrs-23.2.0 h11-0.14.0 iniconfig-2.0.0 outcome-1.3.0.post0 pluggy-1.5.0 pytest-8.2.2 selenium-4.21.0 trio-0.25.1 trio-websocket-0.11.1 wsproto-1.2.0\n",
      "Note: you may need to restart the kernel to use updated packages.\n"
     ]
    }
   ],
   "source": [
    "\n",
    "pip install selenium pytest\n"
   ]
  },
  {
   "cell_type": "code",
   "execution_count": 26,
   "id": "b5481e5b",
   "metadata": {},
   "outputs": [
    {
     "name": "stdout",
     "output_type": "stream",
     "text": [
      "Requirement already satisfied: selenium in d:\\disco edinson\\downloads\\anaconda\\envs\\i_d\\lib\\site-packages (4.21.0)\n",
      "Requirement already satisfied: urllib3<3,>=1.26 in d:\\disco edinson\\downloads\\anaconda\\envs\\i_d\\lib\\site-packages (from urllib3[socks]<3,>=1.26->selenium) (2.1.0)\n",
      "Requirement already satisfied: trio~=0.17 in d:\\disco edinson\\downloads\\anaconda\\envs\\i_d\\lib\\site-packages (from selenium) (0.25.1)\n",
      "Requirement already satisfied: trio-websocket~=0.9 in d:\\disco edinson\\downloads\\anaconda\\envs\\i_d\\lib\\site-packages (from selenium) (0.11.1)\n",
      "Requirement already satisfied: certifi>=2021.10.8 in d:\\disco edinson\\downloads\\anaconda\\envs\\i_d\\lib\\site-packages (from selenium) (2024.2.2)\n",
      "Requirement already satisfied: typing_extensions>=4.9.0 in d:\\disco edinson\\downloads\\anaconda\\envs\\i_d\\lib\\site-packages (from selenium) (4.9.0)\n",
      "Requirement already satisfied: attrs>=23.2.0 in d:\\disco edinson\\downloads\\anaconda\\envs\\i_d\\lib\\site-packages (from trio~=0.17->selenium) (23.2.0)\n",
      "Requirement already satisfied: sortedcontainers in d:\\disco edinson\\downloads\\anaconda\\envs\\i_d\\lib\\site-packages (from trio~=0.17->selenium) (2.4.0)\n",
      "Requirement already satisfied: idna in d:\\disco edinson\\downloads\\anaconda\\envs\\i_d\\lib\\site-packages (from trio~=0.17->selenium) (3.4)\n",
      "Requirement already satisfied: outcome in d:\\disco edinson\\downloads\\anaconda\\envs\\i_d\\lib\\site-packages (from trio~=0.17->selenium) (1.3.0.post0)\n",
      "Requirement already satisfied: sniffio>=1.3.0 in d:\\disco edinson\\downloads\\anaconda\\envs\\i_d\\lib\\site-packages (from trio~=0.17->selenium) (1.3.0)\n",
      "Requirement already satisfied: cffi>=1.14 in d:\\disco edinson\\downloads\\anaconda\\envs\\i_d\\lib\\site-packages (from trio~=0.17->selenium) (1.16.0)\n",
      "Requirement already satisfied: exceptiongroup in d:\\disco edinson\\downloads\\anaconda\\envs\\i_d\\lib\\site-packages (from trio~=0.17->selenium) (1.2.0)\n",
      "Requirement already satisfied: wsproto>=0.14 in d:\\disco edinson\\downloads\\anaconda\\envs\\i_d\\lib\\site-packages (from trio-websocket~=0.9->selenium) (1.2.0)\n",
      "Requirement already satisfied: pysocks!=1.5.7,<2.0,>=1.5.6 in d:\\disco edinson\\downloads\\anaconda\\envs\\i_d\\lib\\site-packages (from urllib3[socks]<3,>=1.26->selenium) (1.7.1)\n",
      "Requirement already satisfied: pycparser in d:\\disco edinson\\downloads\\anaconda\\envs\\i_d\\lib\\site-packages (from cffi>=1.14->trio~=0.17->selenium) (2.21)\n",
      "Requirement already satisfied: h11<1,>=0.9.0 in d:\\disco edinson\\downloads\\anaconda\\envs\\i_d\\lib\\site-packages (from wsproto>=0.14->trio-websocket~=0.9->selenium) (0.14.0)\n",
      "Note: you may need to restart the kernel to use updated packages.\n"
     ]
    }
   ],
   "source": [
    "pip install selenium\n"
   ]
  },
  {
   "cell_type": "code",
   "execution_count": 76,
   "id": "3543e806",
   "metadata": {},
   "outputs": [],
   "source": [
    "import pytest\n",
    "import time\n",
    "from selenium import webdriver\n",
    "from selenium.webdriver.common.by import By  # Importar By desde selenium.webdriver.common.by\n",
    "from selenium.webdriver.common.keys import Keys\n",
    "\n",
    "@pytest.fixture\n",
    "def browser():\n",
    "    driver = webdriver.Chrome()\n",
    "    yield driver\n",
    "    driver.quit()\n",
    "\n",
    "def test_google_search(browser):\n",
    "    browser.get('https://www.google.com/')\n",
    "    search_box = browser.find_element(By.NAME, 'q')  # Utilizar find_element con By.NAME\n",
    "    search_box.send_keys('pruebas automatizadas con DevOps')\n",
    "    search_box.send_keys(Keys.RETURN)\n",
    "    time.sleep(5)  # Esperar 5 segundos para ver los resultados\n",
    "    assert 'pruebas automatizadas con DevOps' in browser.title\n"
   ]
  },
  {
   "cell_type": "code",
   "execution_count": 77,
   "id": "eaa9d184",
   "metadata": {},
   "outputs": [],
   "source": [
    "test_code = \"\"\"\n",
    "import pytest\n",
    "import time\n",
    "from selenium import webdriver\n",
    "from selenium.webdriver.common.by import By  # Importar By desde selenium.webdriver.common.by\n",
    "from selenium.webdriver.common.keys import Keys\n",
    "\n",
    "@pytest.fixture\n",
    "def browser():\n",
    "    driver = webdriver.Chrome()\n",
    "    yield driver\n",
    "    driver.quit()\n",
    "\n",
    "def test_google_search(browser):\n",
    "    browser.get('https://www.google.com/')\n",
    "    search_box = browser.find_element(By.NAME, 'q')  # Utilizar find_element con By.NAME\n",
    "    search_box.send_keys('pruebas automatizadas con DevOps')\n",
    "    search_box.send_keys(Keys.RETURN)\n",
    "    time.sleep(5)  # Esperar 5 segundos para ver los resultados\n",
    "    assert 'pruebas automatizadas con DevOps' in browser.title\n",
    "\n",
    "\"\"\"\n",
    "\n",
    "with open('test_google.py', 'w') as f:\n",
    "    f.write(test_code)\n"
   ]
  },
  {
   "cell_type": "code",
   "execution_count": 78,
   "id": "3ec5f117",
   "metadata": {},
   "outputs": [
    {
     "name": "stdout",
     "output_type": "stream",
     "text": [
      "\u001b[1m============================= test session starts =============================\u001b[0m\n",
      "platform win32 -- Python 3.8.19, pytest-8.2.2, pluggy-1.5.0\n",
      "rootdir: C:\\Users\\EDINSON\\ProyectoDevps\n",
      "plugins: anyio-4.2.0\n",
      "collected 1 item\n",
      "\n",
      "test_google.py \u001b[32m.\u001b[0m\u001b[32m                                                         [100%]\u001b[0m\n",
      "\n",
      "\u001b[32m============================= \u001b[32m\u001b[1m1 passed\u001b[0m\u001b[32m in 16.75s\u001b[0m\u001b[32m ==============================\u001b[0m\n"
     ]
    }
   ],
   "source": [
    "!pytest test_google.py\n"
   ]
  },
  {
   "cell_type": "code",
   "execution_count": 79,
   "id": "5e9d203a",
   "metadata": {},
   "outputs": [],
   "source": [
    "import codecs\n",
    "\n",
    "with codecs.open(\"test_google.py\", \"r\", encoding=\"utf-8\", errors=\"ignore\") as f:\n",
    "    content = f.read()\n",
    "\n",
    "with codecs.open(\"test_google.py\", \"w\", encoding=\"utf-8\") as f:\n",
    "    f.write(content)\n"
   ]
  },
  {
   "cell_type": "code",
   "execution_count": null,
   "id": "a27df3b8",
   "metadata": {},
   "outputs": [],
   "source": []
  }
 ],
 "metadata": {
  "kernelspec": {
   "display_name": "Python 3 (ipykernel)",
   "language": "python",
   "name": "python3"
  },
  "language_info": {
   "codemirror_mode": {
    "name": "ipython",
    "version": 3
   },
   "file_extension": ".py",
   "mimetype": "text/x-python",
   "name": "python",
   "nbconvert_exporter": "python",
   "pygments_lexer": "ipython3",
   "version": "3.8.19"
  }
 },
 "nbformat": 4,
 "nbformat_minor": 5
}
